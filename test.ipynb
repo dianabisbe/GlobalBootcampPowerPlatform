{
 "cells": [
  {
   "cell_type": "markdown",
   "metadata": {},
   "source": [
    "Importar data del dataset de iris"
   ]
  },
  {
   "cell_type": "code",
   "execution_count": 1,
   "metadata": {},
   "outputs": [],
   "source": [
    "import pandas as pd\n",
    "from sklearn import datasets\n",
    "\n",
    "data = datasets.load_iris()\n",
    "\n",
    "df = pd.DataFrame(data = data.data, columns = data.feature_names)"
   ]
  },
  {
   "cell_type": "markdown",
   "metadata": {},
   "source": [
    "Azure OpenAI Python Script"
   ]
  },
  {
   "cell_type": "code",
   "execution_count": null,
   "metadata": {},
   "outputs": [],
   "source": [
    "# Set Azure OpenAI credentials\n",
    "# openai.api_type = \"azure\"\n",
    "# openai.api_base = \"https://ao-dd-lexer-test.openai.azure.com/\"\n",
    "# openai.api_version = \"2023-07-01-preview\"\n",
    "# openai.api_key = \"8f0b2d8e5197447ca7dde63d4cb036c6\""
   ]
  },
  {
   "cell_type": "code",
   "execution_count": 7,
   "metadata": {},
   "outputs": [],
   "source": [
    "import os\n",
    "from openai import AzureOpenAI\n",
    "    \n",
    "client = AzureOpenAI(\n",
    "    api_key=\"\",  \n",
    "    api_version=\"2023-12-01-preview\",\n",
    "    azure_endpoint=\"https://ao-dd-lexer-test.openai.azure.com/\"\n",
    ")"
   ]
  },
  {
   "cell_type": "code",
   "execution_count": 16,
   "metadata": {},
   "outputs": [],
   "source": [
    "system_message = \"You are an assistant designed to help people answer questions\"\n",
    "\n",
    "messages_object = [{\"role\": \"system\", \"content\": system_message},\n",
    "            {\"role\": \"user\", \"content\": \"What's Power BI?\"}]"
   ]
  },
  {
   "cell_type": "code",
   "execution_count": 17,
   "metadata": {},
   "outputs": [],
   "source": [
    "chat = client.chat.completions.create(\n",
    "    model=\"gpt-35-turbo\", # model = \"deployment_name\".\n",
    "    messages=messages_object\n",
    ")\n"
   ]
  },
  {
   "cell_type": "code",
   "execution_count": 18,
   "metadata": {},
   "outputs": [],
   "source": [
    "response = chat.choices[0].message.content"
   ]
  },
  {
   "cell_type": "code",
   "execution_count": 98,
   "metadata": {},
   "outputs": [],
   "source": [
    "import pandas as pd\n",
    "\n",
    "# Load a csv file into a pandas DataFrame\n",
    "df = pd.read_csv('spotify_songs.csv', on_bad_lines='skip')"
   ]
  },
  {
   "cell_type": "code",
   "execution_count": 99,
   "metadata": {},
   "outputs": [],
   "source": [
    "# Take only 10 songs by ABBA\n",
    "\n",
    "df = df[df['artist'] == 'ABBA'].head(10)"
   ]
  },
  {
   "cell_type": "code",
   "execution_count": 100,
   "metadata": {},
   "outputs": [],
   "source": [
    "df = df.drop(columns=['artist'])"
   ]
  },
  {
   "cell_type": "code",
   "execution_count": 101,
   "metadata": {},
   "outputs": [],
   "source": [
    "df = df.drop(columns=['link'])"
   ]
  },
  {
   "cell_type": "code",
   "execution_count": 102,
   "metadata": {},
   "outputs": [],
   "source": [
    "df = df.head(10)"
   ]
  },
  {
   "cell_type": "code",
   "execution_count": 103,
   "metadata": {},
   "outputs": [
    {
     "data": {
      "text/html": [
       "<div>\n",
       "<style scoped>\n",
       "    .dataframe tbody tr th:only-of-type {\n",
       "        vertical-align: middle;\n",
       "    }\n",
       "\n",
       "    .dataframe tbody tr th {\n",
       "        vertical-align: top;\n",
       "    }\n",
       "\n",
       "    .dataframe thead th {\n",
       "        text-align: right;\n",
       "    }\n",
       "</style>\n",
       "<table border=\"1\" class=\"dataframe\">\n",
       "  <thead>\n",
       "    <tr style=\"text-align: right;\">\n",
       "      <th></th>\n",
       "      <th>song</th>\n",
       "      <th>text</th>\n",
       "    </tr>\n",
       "  </thead>\n",
       "  <tbody>\n",
       "    <tr>\n",
       "      <th>0</th>\n",
       "      <td>Ahe's My Kind Of Girl</td>\n",
       "      <td>Look at her face, it's a wonderful face  \\nAnd...</td>\n",
       "    </tr>\n",
       "    <tr>\n",
       "      <th>1</th>\n",
       "      <td>Andante, Andante</td>\n",
       "      <td>Take it easy with me, please  \\nTouch me gentl...</td>\n",
       "    </tr>\n",
       "    <tr>\n",
       "      <th>2</th>\n",
       "      <td>As Good As New</td>\n",
       "      <td>I'll never know why I had to go  \\nWhy I had t...</td>\n",
       "    </tr>\n",
       "    <tr>\n",
       "      <th>3</th>\n",
       "      <td>Bang</td>\n",
       "      <td>Making somebody happy is a question of give an...</td>\n",
       "    </tr>\n",
       "    <tr>\n",
       "      <th>4</th>\n",
       "      <td>Bang-A-Boomerang</td>\n",
       "      <td>Making somebody happy is a question of give an...</td>\n",
       "    </tr>\n",
       "    <tr>\n",
       "      <th>5</th>\n",
       "      <td>Burning My Bridges</td>\n",
       "      <td>Well, you hoot and you holler and you make me ...</td>\n",
       "    </tr>\n",
       "    <tr>\n",
       "      <th>6</th>\n",
       "      <td>Cassandra</td>\n",
       "      <td>Down in the street they're all singing and sho...</td>\n",
       "    </tr>\n",
       "    <tr>\n",
       "      <th>7</th>\n",
       "      <td>Chiquitita</td>\n",
       "      <td>Chiquitita, tell me what's wrong  \\nYou're enc...</td>\n",
       "    </tr>\n",
       "    <tr>\n",
       "      <th>8</th>\n",
       "      <td>Crazy World</td>\n",
       "      <td>I was out with the morning sun  \\nCouldn't sle...</td>\n",
       "    </tr>\n",
       "    <tr>\n",
       "      <th>9</th>\n",
       "      <td>Crying Over You</td>\n",
       "      <td>I'm waitin' for you baby  \\nI'm sitting all al...</td>\n",
       "    </tr>\n",
       "  </tbody>\n",
       "</table>\n",
       "</div>"
      ],
      "text/plain": [
       "                    song                                               text\n",
       "0  Ahe's My Kind Of Girl  Look at her face, it's a wonderful face  \\nAnd...\n",
       "1       Andante, Andante  Take it easy with me, please  \\nTouch me gentl...\n",
       "2         As Good As New  I'll never know why I had to go  \\nWhy I had t...\n",
       "3                   Bang  Making somebody happy is a question of give an...\n",
       "4       Bang-A-Boomerang  Making somebody happy is a question of give an...\n",
       "5     Burning My Bridges  Well, you hoot and you holler and you make me ...\n",
       "6              Cassandra  Down in the street they're all singing and sho...\n",
       "7             Chiquitita  Chiquitita, tell me what's wrong  \\nYou're enc...\n",
       "8            Crazy World  I was out with the morning sun  \\nCouldn't sle...\n",
       "9        Crying Over You  I'm waitin' for you baby  \\nI'm sitting all al..."
      ]
     },
     "execution_count": 103,
     "metadata": {},
     "output_type": "execute_result"
    }
   ],
   "source": [
    "df"
   ]
  },
  {
   "cell_type": "code",
   "execution_count": null,
   "metadata": {},
   "outputs": [],
   "source": [
    "# Loop through each row in Renamed Columns & concatenate the data into a single string. Pass resulting string to the API\n",
    "renamed_columns = df\n",
    "\n",
    "system_message = 'For each song, I will give you the following information: song (containing the tile) and text (containing the lyrics). Then, analyze the text and write a brief summary of the lyrics for each song tile'\n",
    "for index, row in renamed_columns.iterrows():\n",
    "    messages = [\n",
    "        {\n",
    "            \"role\": \"system\",\n",
    "            \"content\": system_message\n",
    "        },\n",
    "        {\n",
    "            \"role\": \"user\",\n",
    "            \"content\": ': '.join([str(col) for col in row])\n",
    "        }\n",
    "    ]\n",
    "    # OpenAI Chat API\n",
    "    chat = client.chat.completions.create(\n",
    "    model=\"gpt-35-turbo\", # model = \"deployment_name\".\n",
    "    messages=messages\n",
    "    )\n",
    "    # Process the response from API\n",
    "    response = chat.choices[0].message.content\n",
    "    print (response)\n"
   ]
  },
  {
   "cell_type": "code",
   "execution_count": null,
   "metadata": {},
   "outputs": [],
   "source": [
    "# OpenAI Chat API\n",
    "chat = client.chat.completions.create(\n",
    "model=\"gpt-35-turbo\", # model = \"deployment_name\".\n",
    "messages=messages\n",
    ")\n",
    "# Process the response from API\n",
    "response = chat.choices[0].message.content\n",
    "# Write the response Back to the Report\n",
    "renamed_columns.at[index, \"result\"] = response"
   ]
  },
  {
   "cell_type": "code",
   "execution_count": 23,
   "metadata": {},
   "outputs": [],
   "source": [
    "import pandas as pd"
   ]
  },
  {
   "cell_type": "code",
   "execution_count": 21,
   "metadata": {},
   "outputs": [
    {
     "data": {
      "text/html": [
       "<div>\n",
       "<style scoped>\n",
       "    .dataframe tbody tr th:only-of-type {\n",
       "        vertical-align: middle;\n",
       "    }\n",
       "\n",
       "    .dataframe tbody tr th {\n",
       "        vertical-align: top;\n",
       "    }\n",
       "\n",
       "    .dataframe thead th {\n",
       "        text-align: right;\n",
       "    }\n",
       "</style>\n",
       "<table border=\"1\" class=\"dataframe\">\n",
       "  <thead>\n",
       "    <tr style=\"text-align: right;\">\n",
       "      <th></th>\n",
       "      <th>song</th>\n",
       "      <th>text</th>\n",
       "    </tr>\n",
       "  </thead>\n",
       "  <tbody>\n",
       "    <tr>\n",
       "      <th>0</th>\n",
       "      <td>Ahe's My Kind Of Girl</td>\n",
       "      <td>Look at her face, it's a wonderful face  \\nAnd...</td>\n",
       "    </tr>\n",
       "    <tr>\n",
       "      <th>1</th>\n",
       "      <td>Andante, Andante</td>\n",
       "      <td>Take it easy with me, please  \\nTouch me gentl...</td>\n",
       "    </tr>\n",
       "    <tr>\n",
       "      <th>2</th>\n",
       "      <td>As Good As New</td>\n",
       "      <td>I'll never know why I had to go  \\nWhy I had t...</td>\n",
       "    </tr>\n",
       "    <tr>\n",
       "      <th>3</th>\n",
       "      <td>Bang</td>\n",
       "      <td>Making somebody happy is a question of give an...</td>\n",
       "    </tr>\n",
       "    <tr>\n",
       "      <th>4</th>\n",
       "      <td>Bang-A-Boomerang</td>\n",
       "      <td>Making somebody happy is a question of give an...</td>\n",
       "    </tr>\n",
       "    <tr>\n",
       "      <th>5</th>\n",
       "      <td>Burning My Bridges</td>\n",
       "      <td>Well, you hoot and you holler and you make me ...</td>\n",
       "    </tr>\n",
       "    <tr>\n",
       "      <th>6</th>\n",
       "      <td>Cassandra</td>\n",
       "      <td>Down in the street they're all singing and sho...</td>\n",
       "    </tr>\n",
       "    <tr>\n",
       "      <th>7</th>\n",
       "      <td>Chiquitita</td>\n",
       "      <td>Chiquitita, tell me what's wrong  \\nYou're enc...</td>\n",
       "    </tr>\n",
       "    <tr>\n",
       "      <th>8</th>\n",
       "      <td>Crazy World</td>\n",
       "      <td>I was out with the morning sun  \\nCouldn't sle...</td>\n",
       "    </tr>\n",
       "    <tr>\n",
       "      <th>9</th>\n",
       "      <td>Crying Over You</td>\n",
       "      <td>I'm waitin' for you baby  \\nI'm sitting all al...</td>\n",
       "    </tr>\n",
       "  </tbody>\n",
       "</table>\n",
       "</div>"
      ],
      "text/plain": [
       "                    song                                               text\n",
       "0  Ahe's My Kind Of Girl  Look at her face, it's a wonderful face  \\nAnd...\n",
       "1       Andante, Andante  Take it easy with me, please  \\nTouch me gentl...\n",
       "2         As Good As New  I'll never know why I had to go  \\nWhy I had t...\n",
       "3                   Bang  Making somebody happy is a question of give an...\n",
       "4       Bang-A-Boomerang  Making somebody happy is a question of give an...\n",
       "5     Burning My Bridges  Well, you hoot and you holler and you make me ...\n",
       "6              Cassandra  Down in the street they're all singing and sho...\n",
       "7             Chiquitita  Chiquitita, tell me what's wrong  \\nYou're enc...\n",
       "8            Crazy World  I was out with the morning sun  \\nCouldn't sle...\n",
       "9        Crying Over You  I'm waitin' for you baby  \\nI'm sitting all al..."
      ]
     },
     "execution_count": 21,
     "metadata": {},
     "output_type": "execute_result"
    }
   ],
   "source": [
    "df = pd.read_csv('https://raw.githubusercontent.com/dianabisbe/GlobalBootcampPowerPlatform/main/spotify_song.csv', on_bad_lines='skip') \n",
    "df = df[df['artist'] == 'ABBA'].head(10)\n",
    "df = df.drop(columns=['artist', 'link'])"
   ]
  }
 ],
 "metadata": {
  "kernelspec": {
   "display_name": "Python 3",
   "language": "python",
   "name": "python3"
  },
  "language_info": {
   "codemirror_mode": {
    "name": "ipython",
    "version": 3
   },
   "file_extension": ".py",
   "mimetype": "text/x-python",
   "name": "python",
   "nbconvert_exporter": "python",
   "pygments_lexer": "ipython3",
   "version": "3.12.2"
  }
 },
 "nbformat": 4,
 "nbformat_minor": 2
}
