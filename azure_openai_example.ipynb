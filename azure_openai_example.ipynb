{
 "cells": [
  {
   "cell_type": "markdown",
   "metadata": {},
   "source": [
    "### Azure OpenAI Example"
   ]
  },
  {
   "cell_type": "code",
   "execution_count": 6,
   "metadata": {},
   "outputs": [],
   "source": [
    "import os\n",
    "from dotenv import load_dotenv\n",
    "load_dotenv()\n",
    "api_key = os.getenv(\"OPENAI_API_KEY\")"
   ]
  },
  {
   "cell_type": "code",
   "execution_count": 8,
   "metadata": {},
   "outputs": [],
   "source": [
    "import os\n",
    "from openai import OpenAI\n",
    "    \n",
    "client = OpenAI(api_key = api_key)"
   ]
  },
  {
   "cell_type": "code",
   "execution_count": 6,
   "metadata": {},
   "outputs": [],
   "source": [
    "system_message = \"You are an assistant designed to help people answer questions\"\n",
    "\n",
    "messages_object = [{\"role\": \"system\", \"content\": system_message},\n",
    "            {\"role\": \"user\", \"content\": \"What's Power BI?\"}]"
   ]
  },
  {
   "cell_type": "code",
   "execution_count": 10,
   "metadata": {},
   "outputs": [],
   "source": [
    "chat = client.chat.completions.create(\n",
    "            model=\"gpt-3.5-turbo\",\n",
    "            messages = messages_object, \n",
    "    )"
   ]
  },
  {
   "cell_type": "code",
   "execution_count": 11,
   "metadata": {},
   "outputs": [],
   "source": [
    "response = chat.choices[0].message.content"
   ]
  },
  {
   "cell_type": "code",
   "execution_count": 12,
   "metadata": {},
   "outputs": [
    {
     "data": {
      "text/plain": [
       "'Power BI is a business analytics tool developed by Microsoft that allows users to create interactive visualizations and reports from their data. It enables users to connect to various data sources, transform and clean the data, and then create interactive dashboards and reports that provide insights into their data. Power BI can be used by businesses to analyze data, track key performance indicators, and make data-driven decisions.'"
      ]
     },
     "execution_count": 12,
     "metadata": {},
     "output_type": "execute_result"
    }
   ],
   "source": [
    "response"
   ]
  },
  {
   "cell_type": "markdown",
   "metadata": {},
   "source": [
    "### Llamada a OpenAI desde Power BI para analizar datos de una tabla:\n",
    "\n",
    "Requisitos:\n",
    "- Python instalado en el ordenador\n",
    "- Instalar las librerías de pandas y OpenAI\n",
    "- OpenAI API key\n",
    "\n",
    "1. Carga el dataset utilizando un script de Pyhton\n",
    "2. Luego desde Power Query elige transformar con Python Script la columna 'text' (que contine la letra de las canciones)"
   ]
  },
  {
   "cell_type": "markdown",
   "metadata": {},
   "source": [
    "Para cargar y preparar los datos, utiliza este script desde Power BI"
   ]
  },
  {
   "cell_type": "code",
   "execution_count": 14,
   "metadata": {},
   "outputs": [],
   "source": [
    "# Importa la librería pandas\n",
    "import pandas as pd\n",
    "# Carga el archivo csv\n",
    "df = pd.read_csv('https://raw.githubusercontent.com/dianabisbe/GlobalBootcampPowerPlatform/main/spotify_song.csv', on_bad_lines='skip')\n",
    "# Selecciona solo canciones de ABBA y selecciona las 10 primeras filas \n",
    "df = df[df['artist'] == 'ABBA'].head(10)\n",
    "# Elimina las columnas artist y link\n",
    "df = df.drop(columns=['artist', 'link'])"
   ]
  },
  {
   "cell_type": "code",
   "execution_count": 19,
   "metadata": {},
   "outputs": [
    {
     "data": {
      "text/html": [
       "<div>\n",
       "<style scoped>\n",
       "    .dataframe tbody tr th:only-of-type {\n",
       "        vertical-align: middle;\n",
       "    }\n",
       "\n",
       "    .dataframe tbody tr th {\n",
       "        vertical-align: top;\n",
       "    }\n",
       "\n",
       "    .dataframe thead th {\n",
       "        text-align: right;\n",
       "    }\n",
       "</style>\n",
       "<table border=\"1\" class=\"dataframe\">\n",
       "  <thead>\n",
       "    <tr style=\"text-align: right;\">\n",
       "      <th></th>\n",
       "      <th>song</th>\n",
       "      <th>text</th>\n",
       "    </tr>\n",
       "  </thead>\n",
       "  <tbody>\n",
       "    <tr>\n",
       "      <th>0</th>\n",
       "      <td>Ahe's My Kind Of Girl</td>\n",
       "      <td>Look at her face, it's a wonderful face  \\nAnd...</td>\n",
       "    </tr>\n",
       "    <tr>\n",
       "      <th>1</th>\n",
       "      <td>Andante, Andante</td>\n",
       "      <td>Take it easy with me, please  \\nTouch me gentl...</td>\n",
       "    </tr>\n",
       "    <tr>\n",
       "      <th>2</th>\n",
       "      <td>As Good As New</td>\n",
       "      <td>I'll never know why I had to go  \\nWhy I had t...</td>\n",
       "    </tr>\n",
       "    <tr>\n",
       "      <th>3</th>\n",
       "      <td>Bang</td>\n",
       "      <td>Making somebody happy is a question of give an...</td>\n",
       "    </tr>\n",
       "    <tr>\n",
       "      <th>4</th>\n",
       "      <td>Bang-A-Boomerang</td>\n",
       "      <td>Making somebody happy is a question of give an...</td>\n",
       "    </tr>\n",
       "    <tr>\n",
       "      <th>5</th>\n",
       "      <td>Burning My Bridges</td>\n",
       "      <td>Well, you hoot and you holler and you make me ...</td>\n",
       "    </tr>\n",
       "    <tr>\n",
       "      <th>6</th>\n",
       "      <td>Cassandra</td>\n",
       "      <td>Down in the street they're all singing and sho...</td>\n",
       "    </tr>\n",
       "    <tr>\n",
       "      <th>7</th>\n",
       "      <td>Chiquitita</td>\n",
       "      <td>Chiquitita, tell me what's wrong  \\nYou're enc...</td>\n",
       "    </tr>\n",
       "    <tr>\n",
       "      <th>8</th>\n",
       "      <td>Crazy World</td>\n",
       "      <td>I was out with the morning sun  \\nCouldn't sle...</td>\n",
       "    </tr>\n",
       "    <tr>\n",
       "      <th>9</th>\n",
       "      <td>Crying Over You</td>\n",
       "      <td>I'm waitin' for you baby  \\nI'm sitting all al...</td>\n",
       "    </tr>\n",
       "  </tbody>\n",
       "</table>\n",
       "</div>"
      ],
      "text/plain": [
       "                    song                                               text\n",
       "0  Ahe's My Kind Of Girl  Look at her face, it's a wonderful face  \\nAnd...\n",
       "1       Andante, Andante  Take it easy with me, please  \\nTouch me gentl...\n",
       "2         As Good As New  I'll never know why I had to go  \\nWhy I had t...\n",
       "3                   Bang  Making somebody happy is a question of give an...\n",
       "4       Bang-A-Boomerang  Making somebody happy is a question of give an...\n",
       "5     Burning My Bridges  Well, you hoot and you holler and you make me ...\n",
       "6              Cassandra  Down in the street they're all singing and sho...\n",
       "7             Chiquitita  Chiquitita, tell me what's wrong  \\nYou're enc...\n",
       "8            Crazy World  I was out with the morning sun  \\nCouldn't sle...\n",
       "9        Crying Over You  I'm waitin' for you baby  \\nI'm sitting all al..."
      ]
     },
     "execution_count": 19,
     "metadata": {},
     "output_type": "execute_result"
    }
   ],
   "source": [
    "df"
   ]
  },
  {
   "cell_type": "markdown",
   "metadata": {},
   "source": [
    "Para hacer una llamada a OpenAI y obtener resultados a partir de la columna 'text', utiiza este sript de Python, recuerda incluir tu API key"
   ]
  },
  {
   "cell_type": "code",
   "execution_count": 21,
   "metadata": {},
   "outputs": [
    {
     "name": "stdout",
     "output_type": "stream",
     "text": [
      "Summary: The lyrics of \"She's My Kind of Girl\" express deep admiration and love for a special girl. The singer appreciates her smile, how she makes him feel, and the moments they share together like walking in the park. The song reflects on the singer's happiness and the fear of losing the girl who means so much to him.\n",
      "Title: Andante, Andante\n",
      "\n",
      "Summary: The lyrics of the song \"Andante, Andante\" convey a message of vulnerability and intimacy, as the singer asks for gentle and slow affection. The term \"Andante\" refers to a musical term for a slow tempo, which reflects the desire for patience and tenderness in a relationship. The singer expresses a deep connection with their partner, describing them as their music and their song. Overall, the lyrics emphasize the importance of taking things slowly, cherishing the moment, and not letting the other person down in a romantic relationship.\n",
      "Summary: The lyrics of \"As Good As New\" convey the speaker's regret and realization of the mistake they made in leaving their loved one, but now they have come back and acknowledge their deep love for them. The speaker expresses their intention to keep their love for their partner as good as new and to make it even better than before. They ask for forgiveness and emphasize that their love for their partner feels renewed and that they are meant to be together. The song overall reflects a sense of remorse, growth, and a commitment to rebuilding the relationship.\n",
      "The song \"Bang\" talks about the importance of giving and receiving love in relationships. The lyrics emphasize the idea that making someone happy involves both giving and taking. It highlights the value of small gestures like smiles, touches, and kisses, as they hold great significance in expressing love. The song encourages sharing love freely and being tender and caring towards others, as love is like a boomerang that comes back to you when you give it away. Overall, the lyrics convey a message of reciprocity in love and the joy that comes from spreading love to others.\n",
      "In the song \"Bang-A-Boomerang,\" the lyrics talk about the importance of giving and receiving love in relationships. The singer emphasizes the idea that making someone happy involves a balance of giving and taking, and that small gestures like smiles, touches, and kisses can mean a lot. The lyrics suggest that by showing love and care to others, one will receive love in return, much like a boomerang effect. The song also cautions against using love selfishly and encourages the listener to cherish and protect the love they find. Ultimately, the message is about the cyclical nature of love and the idea that giving and receiving love creates a harmonious and fulfilling relationship.\n",
      "The lyrics of \"Burning My Bridges\" depict a person who is finally fed up with being controlled and mistreated by someone else. The protagonist decides to take a stand for themselves, expressing their determination to break free from the toxic relationship and move forward. They emphasize reclaiming their independence, pride, and peace of mind, refusing to let anyone manipulate or take advantage of them any longer. The act of burning bridges and cutting ties symbolizes a definitive break from the past and a newfound sense of liberation and empowerment.\n",
      "The song \"Cassandra\" talks about a person who is crying and warning others about impending doom, but nobody believes them. The lyrics express regret and apology for not listening to Cassandra's warnings, as she grieves the loss of her family and prepares to face the future alone. The song conveys a sense of helplessness and regret for not recognizing the power and foresight that Cassandra possessed, leading to a realization only in the final hour. Ultimately, it reflects on the consequences of ignoring the voice of reason and the power of intuition.\n",
      "Summary: \"Chiquitita\" by ABBA is a song that expresses concern and support for a friend who is going through a difficult time. The narrator urges Chiquitita to share her feelings and opens up about her own struggles with heartache and pain. The lyrics focus on the idea that despite hardships, there is hope for healing and moving forward. It encourages Chiquitita to find strength, to sing once more, and to try again like she did before. The song conveys a message of friendship, empathy, and resilience in the face of adversity.\n",
      "**Summary:**\n",
      "The lyrics of \"Crazy World\" tell a story of heartbreak and betrayal. The protagonist goes to their love interest's house and discovers them with another man. The protagonist is shocked and hurt, feeling a sense of emptiness they've never felt before. They confront their partner, who reveals that the other man is actually their brother. Despite the explanation, the protagonist is left feeling disillusioned and hurt by the whole situation. The song captures the confusion and pain of discovering deception and the complexities of relationships in a \"crazy world.\"\n",
      "Summary: The lyrics of \"Crying Over You\" express the feelings of heartbreak and longing after a breakup. The singer is waiting and sitting alone, feeling cold and empty without their partner. They express disbelief that the relationship has ended, leading to feelings of sadness and loneliness, which are depicted through the repeated chorus of \"I'm cryin' over you\". The lyrics convey a sense of nostalgia for the past and the memories shared with their partner, emphasizing the emotional pain and sorrow of the breakup.\n"
     ]
    }
   ],
   "source": [
    "from openai import OpenAI\n",
    "    \n",
    "client = OpenAI(api_key = api_key)\n",
    "\n",
    "system_message = 'For each song, I will give you the following information: song (containing the tile) and text (containing the lyrics). Then, analyze the text and write a brief summary of the lyrics for each song tile'\n",
    "for index, row in df.iterrows():\n",
    "    messages = [\n",
    "        {\n",
    "            \"role\": \"system\",\n",
    "            \"content\": system_message\n",
    "        },\n",
    "        {\n",
    "            \"role\": \"user\",\n",
    "            \"content\": ': '.join([str(col) for col in row])\n",
    "        }\n",
    "    ]\n",
    "    # OpenAI Chat API\n",
    "    chat = client.chat.completions.create(\n",
    "    model=\"gpt-3.5-turbo\",\n",
    "    messages=messages\n",
    "    )\n",
    "    # Procesa la respuesta de la API\n",
    "    response = chat.choices[0].message.content\n",
    "    print (response)\n"
   ]
  },
  {
   "cell_type": "code",
   "execution_count": null,
   "metadata": {},
   "outputs": [],
   "source": [
    "text = '''El Global AI Bootcamp es un evento gratuito en más de 70 localizaciones \n",
    "        alrededor del mundo apoyado por la Global AI Community y organizado por \n",
    "        comunidades locales, a las que les apasiona todo lo relacionado con el \n",
    "        desarrollo de soluciones de Inteligencia Artificial, bajo el stack de tecnologías\n",
    "        y servicios de Microsoft.'''\n",
    "        \n",
    "client.embeddings.create(input = [text], model=\"text-embedding-3-small\").data[0].embedding"
   ]
  }
 ],
 "metadata": {
  "kernelspec": {
   "display_name": "Python 3",
   "language": "python",
   "name": "python3"
  },
  "language_info": {
   "codemirror_mode": {
    "name": "ipython",
    "version": 3
   },
   "file_extension": ".py",
   "mimetype": "text/x-python",
   "name": "python",
   "nbconvert_exporter": "python",
   "pygments_lexer": "ipython3",
   "version": "3.12.2"
  }
 },
 "nbformat": 4,
 "nbformat_minor": 2
}
