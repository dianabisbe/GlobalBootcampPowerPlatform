{
 "cells": [
  {
   "cell_type": "markdown",
   "metadata": {},
   "source": [
    "### Azure AI: Language Service"
   ]
  },
  {
   "cell_type": "code",
   "execution_count": null,
   "metadata": {},
   "outputs": [],
   "source": [
    "! pip install azure-ai-textanalytics"
   ]
  },
  {
   "cell_type": "code",
   "execution_count": 2,
   "metadata": {},
   "outputs": [],
   "source": [
    "from dotenv import load_dotenv\n",
    "import os"
   ]
  },
  {
   "cell_type": "code",
   "execution_count": 3,
   "metadata": {},
   "outputs": [],
   "source": [
    "load_dotenv()\n",
    "endpoint = os.getenv(\"AZURE_LANGUAGE_ENDPOINT\")\n",
    "key = os.getenv(\"AZURE_LANGUAGE_KEY\")"
   ]
  },
  {
   "cell_type": "code",
   "execution_count": 4,
   "metadata": {},
   "outputs": [],
   "source": [
    "import os\n",
    "from azure.core.credentials import AzureKeyCredential\n",
    "from azure.ai.textanalytics import TextAnalyticsClient\n",
    "\n",
    "text_analytics_client = TextAnalyticsClient(\n",
    "    endpoint=endpoint,\n",
    "    credential=AzureKeyCredential(key),\n",
    ")"
   ]
  },
  {
   "cell_type": "code",
   "execution_count": 5,
   "metadata": {},
   "outputs": [],
   "source": [
    "\n",
    "document = [\n",
    "\"Power Platform es una suite de aplicaciones para empoderar a las organizaciones a través de soluciones personalizadas.\",\n",
    "\"Esta plataforma integra cuatro herramientas principales: Power BI, Power Apps, Power Automate y Power Virtual Agents.\",\n",
    "\"Power BI permite analizar datos y generar informes visuales interactivos, facilitando la toma de decisiones informadas.\",\n",
    "]\n"
   ]
  },
  {
   "cell_type": "markdown",
   "metadata": {},
   "source": [
    "Este ejemplo demuestra cómo enviar documentos de texto para la sumarización abstractiva de texto.\n",
    "La sumarización abstractiva está disponible como un tipo de acción a través de la API.\n",
    "\n",
    "Abstractive summarization genera un resumen que puede no utilizar las mismas palabras que las del documento, pero captura la idea principal."
   ]
  },
  {
   "cell_type": "code",
   "execution_count": 6,
   "metadata": {},
   "outputs": [
    {
     "name": "stdout",
     "output_type": "stream",
     "text": [
      "Summaries abstracted:\n",
      "The Power Platform is a suite of applications designed to empower organizations through personalized solutions.\n",
      "\n",
      "Summaries abstracted:\n",
      "The document describes a platform that includes four main tools: Power BI, Power Apps, Power Automate, and Power Virtual Agents.\n",
      "\n",
      "Summaries abstracted:\n",
      "The source document discusses the capabilities of Power BI, a tool that provides data analysis and interactive information. This tool is particularly useful for making informed decisions.\n",
      "\n"
     ]
    }
   ],
   "source": [
    "poller = text_analytics_client.begin_abstract_summary(document)\n",
    "\n",
    "abstract_summary_results = poller.result()\n",
    "\n",
    "for result in abstract_summary_results:\n",
    "    if result.kind == \"AbstractiveSummarization\":\n",
    "        print(\"Summaries abstracted:\")\n",
    "        [print(f\"{summary.text}\\n\") for summary in result.summaries]\n",
    "    elif result.is_error is True:\n",
    "        print(\"...Is an error with code '{}' and message '{}'\".format(\n",
    "            result.error.code, result.error.message\n",
    "        ))"
   ]
  }
 ],
 "metadata": {
  "kernelspec": {
   "display_name": "Python 3",
   "language": "python",
   "name": "python3"
  },
  "language_info": {
   "codemirror_mode": {
    "name": "ipython",
    "version": 3
   },
   "file_extension": ".py",
   "mimetype": "text/x-python",
   "name": "python",
   "nbconvert_exporter": "python",
   "pygments_lexer": "ipython3",
   "version": "3.12.2"
  }
 },
 "nbformat": 4,
 "nbformat_minor": 2
}
